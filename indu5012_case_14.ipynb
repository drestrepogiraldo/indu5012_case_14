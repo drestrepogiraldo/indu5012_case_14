{
 "cells": [
  {
   "cell_type": "markdown",
   "source": "# Case 14 - Lending Club",
   "metadata": {
    "cell_id": "84f9996a-e2dc-4c90-9974-67704a553915",
    "tags": [],
    "deepnote_cell_type": "markdown",
    "deepnote_cell_height": 82
   }
  },
  {
   "cell_type": "markdown",
   "source": "## Business Problem\n\nLending Club is a fintech that specialized in peer-to-peer lending through an online platform. They wish to know if there is any way to predict if a client is going to default on the loan and generate losses to all the people involved. And if it is possible, how would yo do it?",
   "metadata": {
    "cell_id": "f21ad223-d5b0-40f6-91bb-b068cf14ba4c",
    "tags": [],
    "deepnote_cell_type": "markdown",
    "deepnote_cell_height": 130.78125
   }
  },
  {
   "cell_type": "markdown",
   "source": "## Packages Import",
   "metadata": {
    "cell_id": "763ccd16-6550-4703-8a13-157190cc6616",
    "tags": [],
    "deepnote_cell_type": "markdown",
    "deepnote_cell_height": 70
   }
  },
  {
   "cell_type": "code",
   "source": "!pip install statsmodels",
   "metadata": {
    "cell_id": "2091813e-71cc-42ea-b343-0277362030f8",
    "tags": [],
    "deepnote_to_be_reexecuted": false,
    "source_hash": "471f39dc",
    "execution_start": 1647444821497,
    "execution_millis": 17229,
    "deepnote_cell_type": "code",
    "deepnote_cell_height": 500.375
   },
   "outputs": [
    {
     "name": "stdout",
     "text": "Collecting statsmodels\n  Downloading statsmodels-0.13.2-cp37-cp37m-manylinux_2_17_x86_64.manylinux2014_x86_64.whl (9.8 MB)\n\u001b[K     |████████████████████████████████| 9.8 MB 12.5 MB/s \n\u001b[?25hRequirement already satisfied: pandas>=0.25 in /shared-libs/python3.7/py/lib/python3.7/site-packages (from statsmodels) (1.3.5)\nRequirement already satisfied: numpy>=1.17 in /shared-libs/python3.7/py-core/lib/python3.7/site-packages (from statsmodels) (1.21.5)\nCollecting patsy>=0.5.2\n  Downloading patsy-0.5.2-py2.py3-none-any.whl (233 kB)\n\u001b[K     |████████████████████████████████| 233 kB 20.9 MB/s \n\u001b[?25hRequirement already satisfied: scipy>=1.3 in /shared-libs/python3.7/py/lib/python3.7/site-packages (from statsmodels) (1.7.3)\nRequirement already satisfied: packaging>=21.3 in /shared-libs/python3.7/py-core/lib/python3.7/site-packages (from statsmodels) (21.3)\nRequirement already satisfied: python-dateutil>=2.7.3 in /shared-libs/python3.7/py-core/lib/python3.7/site-packages (from pandas>=0.25->statsmodels) (2.8.2)\nRequirement already satisfied: pytz>=2017.3 in /shared-libs/python3.7/py-core/lib/python3.7/site-packages (from pandas>=0.25->statsmodels) (2021.3)\nRequirement already satisfied: six in /shared-libs/python3.7/py-core/lib/python3.7/site-packages (from patsy>=0.5.2->statsmodels) (1.16.0)\nRequirement already satisfied: pyparsing!=3.0.5,>=2.0.2 in /shared-libs/python3.7/py-core/lib/python3.7/site-packages (from packaging>=21.3->statsmodels) (3.0.7)\nInstalling collected packages: patsy, statsmodels\nSuccessfully installed patsy-0.5.2 statsmodels-0.13.2\n\u001b[33mWARNING: You are using pip version 20.1.1; however, version 22.0.4 is available.\nYou should consider upgrading via the '/root/venv/bin/python -m pip install --upgrade pip' command.\u001b[0m\n",
     "output_type": "stream"
    }
   ],
   "execution_count": 1
  },
  {
   "cell_type": "code",
   "source": "import numpy as np \nimport pandas as pd \nimport seaborn as sns \nimport matplotlib.pyplot as plt\n\nimport statsmodels.api as sm\nfrom statsmodels.tools import add_constant as add_constant\n\nfrom sklearn.linear_model import LogisticRegression\nfrom sklearn.model_selection import cross_val_score\nfrom sklearn import preprocessing\n\nimport statsmodels.formula.api as sfm\nfrom sklearn.metrics import roc_curve, auc\n\nfrom sklearn.preprocessing import MinMaxScaler, MaxAbsScaler, RobustScaler, StandardScaler, OrdinalEncoder",
   "metadata": {
    "cell_id": "b8d65ebb-f1bf-4a05-ac29-8c9cc37e12b5",
    "tags": [],
    "deepnote_to_be_reexecuted": false,
    "source_hash": "1f1935b1",
    "execution_start": 1647444838737,
    "execution_millis": 5013,
    "deepnote_cell_type": "code",
    "deepnote_cell_height": 351
   },
   "outputs": [],
   "execution_count": 2
  },
  {
   "cell_type": "markdown",
   "source": "## Data Import\n\nThe information was downloaded from a dataset available at [Kaggle](https://www.kaggle.com/wordsforthewise/lending-club).",
   "metadata": {
    "cell_id": "c8988f61-2c83-4c3b-a893-657b4769f1ca",
    "tags": [],
    "deepnote_cell_type": "markdown",
    "deepnote_cell_height": 108.390625
   }
  },
  {
   "cell_type": "code",
   "source": "df_lending = pd.read_csv('/work/indu5012_case_14/data/Lending_club.csv')\ndf_lending.head(5)",
   "metadata": {
    "cell_id": "e8ea6f6b-8c89-414b-8167-d353e65ba357",
    "tags": [],
    "deepnote_to_be_reexecuted": false,
    "source_hash": "1ac50dd5",
    "execution_start": 1647444843766,
    "execution_millis": 300,
    "deepnote_cell_type": "code",
    "deepnote_cell_height": 428
   },
   "outputs": [
    {
     "output_type": "execute_result",
     "execution_count": 3,
     "data": {
      "application/vnd.deepnote.dataframe.v3+json": {
       "column_count": 10,
       "row_count": 5,
       "columns": [
        {
         "name": "loan_status",
         "dtype": "object",
         "stats": {
          "unique_count": 2,
          "nan_count": 0,
          "categories": [
           {
            "name": "Fully Paid",
            "count": 4
           },
           {
            "name": "Charged Off",
            "count": 1
           }
          ]
         }
        },
        {
         "name": "annual_inc",
         "dtype": "float64",
         "stats": {
          "unique_count": 5,
          "nan_count": 0,
          "min": "12252.0",
          "max": "80000.0",
          "histogram": [
           {
            "bin_start": 12252,
            "bin_end": 19026.8,
            "count": 1
           },
           {
            "bin_start": 19026.8,
            "bin_end": 25801.6,
            "count": 1
           },
           {
            "bin_start": 25801.6,
            "bin_end": 32576.4,
            "count": 1
           },
           {
            "bin_start": 32576.4,
            "bin_end": 39351.2,
            "count": 0
           },
           {
            "bin_start": 39351.2,
            "bin_end": 46126,
            "count": 0
           },
           {
            "bin_start": 46126,
            "bin_end": 52900.8,
            "count": 1
           },
           {
            "bin_start": 52900.8,
            "bin_end": 59675.6,
            "count": 0
           },
           {
            "bin_start": 59675.6,
            "bin_end": 66450.4,
            "count": 0
           },
           {
            "bin_start": 66450.4,
            "bin_end": 73225.20000000001,
            "count": 0
           },
           {
            "bin_start": 73225.20000000001,
            "bin_end": 80000,
            "count": 1
           }
          ]
         }
        },
        {
         "name": "verification_status",
         "dtype": "object",
         "stats": {
          "unique_count": 3,
          "nan_count": 0,
          "categories": [
           {
            "name": "Source Verified",
            "count": 3
           },
           {
            "name": "Verified",
            "count": 1
           },
           {
            "name": "Not Verified",
            "count": 1
           }
          ]
         }
        },
        {
         "name": "emp_length",
         "dtype": "object",
         "stats": {
          "unique_count": 3,
          "nan_count": 0,
          "categories": [
           {
            "name": "10+ years",
            "count": 3
           },
           {
            "name": "< 1 year",
            "count": 1
           },
           {
            "name": "1 year",
            "count": 1
           }
          ]
         }
        },
        {
         "name": "home_ownership",
         "dtype": "object",
         "stats": {
          "unique_count": 1,
          "nan_count": 0,
          "categories": [
           {
            "name": "RENT",
            "count": 5
           }
          ]
         }
        },
        {
         "name": "int_rate",
         "dtype": "object",
         "stats": {
          "unique_count": 5,
          "nan_count": 0,
          "categories": [
           {
            "name": "10.65%",
            "count": 1
           },
           {
            "name": "15.27%",
            "count": 1
           },
           {
            "name": "3 others",
            "count": 3
           }
          ]
         }
        },
        {
         "name": "loan_amnt",
         "dtype": "int64",
         "stats": {
          "unique_count": 5,
          "nan_count": 0,
          "min": "2400",
          "max": "10000",
          "histogram": [
           {
            "bin_start": 2400,
            "bin_end": 3160,
            "count": 3
           },
           {
            "bin_start": 3160,
            "bin_end": 3920,
            "count": 0
           },
           {
            "bin_start": 3920,
            "bin_end": 4680,
            "count": 0
           },
           {
            "bin_start": 4680,
            "bin_end": 5440,
            "count": 1
           },
           {
            "bin_start": 5440,
            "bin_end": 6200,
            "count": 0
           },
           {
            "bin_start": 6200,
            "bin_end": 6960,
            "count": 0
           },
           {
            "bin_start": 6960,
            "bin_end": 7720,
            "count": 0
           },
           {
            "bin_start": 7720,
            "bin_end": 8480,
            "count": 0
           },
           {
            "bin_start": 8480,
            "bin_end": 9240,
            "count": 0
           },
           {
            "bin_start": 9240,
            "bin_end": 10000,
            "count": 1
           }
          ]
         }
        },
        {
         "name": "purpose",
         "dtype": "object",
         "stats": {
          "unique_count": 4,
          "nan_count": 0,
          "categories": [
           {
            "name": "other",
            "count": 2
           },
           {
            "name": "credit_card",
            "count": 1
           },
           {
            "name": "2 others",
            "count": 2
           }
          ]
         }
        },
        {
         "name": "term",
         "dtype": "object",
         "stats": {
          "unique_count": 2,
          "nan_count": 0,
          "categories": [
           {
            "name": " 36 months",
            "count": 3
           },
           {
            "name": " 60 months",
            "count": 2
           }
          ]
         }
        },
        {
         "name": "grade",
         "dtype": "object",
         "stats": {
          "unique_count": 2,
          "nan_count": 0,
          "categories": [
           {
            "name": "C",
            "count": 3
           },
           {
            "name": "B",
            "count": 2
           }
          ]
         }
        },
        {
         "name": "_deepnote_index_column",
         "dtype": "int64"
        }
       ],
       "rows": [
        {
         "loan_status": "Fully Paid",
         "annual_inc": 24000,
         "verification_status": "Verified",
         "emp_length": "10+ years",
         "home_ownership": "RENT",
         "int_rate": "10.65%",
         "loan_amnt": 5000,
         "purpose": "credit_card",
         "term": " 36 months",
         "grade": "B",
         "_deepnote_index_column": 0
        },
        {
         "loan_status": "Charged Off",
         "annual_inc": 30000,
         "verification_status": "Source Verified",
         "emp_length": "< 1 year",
         "home_ownership": "RENT",
         "int_rate": "15.27%",
         "loan_amnt": 2500,
         "purpose": "car",
         "term": " 60 months",
         "grade": "C",
         "_deepnote_index_column": 1
        },
        {
         "loan_status": "Fully Paid",
         "annual_inc": 12252,
         "verification_status": "Not Verified",
         "emp_length": "10+ years",
         "home_ownership": "RENT",
         "int_rate": "15.96%",
         "loan_amnt": 2400,
         "purpose": "small_business",
         "term": " 36 months",
         "grade": "C",
         "_deepnote_index_column": 2
        },
        {
         "loan_status": "Fully Paid",
         "annual_inc": 49200,
         "verification_status": "Source Verified",
         "emp_length": "10+ years",
         "home_ownership": "RENT",
         "int_rate": "13.49%",
         "loan_amnt": 10000,
         "purpose": "other",
         "term": " 36 months",
         "grade": "C",
         "_deepnote_index_column": 3
        },
        {
         "loan_status": "Fully Paid",
         "annual_inc": 80000,
         "verification_status": "Source Verified",
         "emp_length": "1 year",
         "home_ownership": "RENT",
         "int_rate": "12.69%",
         "loan_amnt": 3000,
         "purpose": "other",
         "term": " 60 months",
         "grade": "B",
         "_deepnote_index_column": 4
        }
       ]
      },
      "text/plain": "   loan_status  annual_inc verification_status emp_length home_ownership  \\\n0   Fully Paid     24000.0            Verified  10+ years           RENT   \n1  Charged Off     30000.0     Source Verified   < 1 year           RENT   \n2   Fully Paid     12252.0        Not Verified  10+ years           RENT   \n3   Fully Paid     49200.0     Source Verified  10+ years           RENT   \n4   Fully Paid     80000.0     Source Verified     1 year           RENT   \n\n  int_rate  loan_amnt         purpose        term grade  \n0   10.65%       5000     credit_card   36 months     B  \n1   15.27%       2500             car   60 months     C  \n2   15.96%       2400  small_business   36 months     C  \n3   13.49%      10000           other   36 months     C  \n4   12.69%       3000           other   60 months     B  ",
      "text/html": "<div>\n<style scoped>\n    .dataframe tbody tr th:only-of-type {\n        vertical-align: middle;\n    }\n\n    .dataframe tbody tr th {\n        vertical-align: top;\n    }\n\n    .dataframe thead th {\n        text-align: right;\n    }\n</style>\n<table border=\"1\" class=\"dataframe\">\n  <thead>\n    <tr style=\"text-align: right;\">\n      <th></th>\n      <th>loan_status</th>\n      <th>annual_inc</th>\n      <th>verification_status</th>\n      <th>emp_length</th>\n      <th>home_ownership</th>\n      <th>int_rate</th>\n      <th>loan_amnt</th>\n      <th>purpose</th>\n      <th>term</th>\n      <th>grade</th>\n    </tr>\n  </thead>\n  <tbody>\n    <tr>\n      <th>0</th>\n      <td>Fully Paid</td>\n      <td>24000.0</td>\n      <td>Verified</td>\n      <td>10+ years</td>\n      <td>RENT</td>\n      <td>10.65%</td>\n      <td>5000</td>\n      <td>credit_card</td>\n      <td>36 months</td>\n      <td>B</td>\n    </tr>\n    <tr>\n      <th>1</th>\n      <td>Charged Off</td>\n      <td>30000.0</td>\n      <td>Source Verified</td>\n      <td>&lt; 1 year</td>\n      <td>RENT</td>\n      <td>15.27%</td>\n      <td>2500</td>\n      <td>car</td>\n      <td>60 months</td>\n      <td>C</td>\n    </tr>\n    <tr>\n      <th>2</th>\n      <td>Fully Paid</td>\n      <td>12252.0</td>\n      <td>Not Verified</td>\n      <td>10+ years</td>\n      <td>RENT</td>\n      <td>15.96%</td>\n      <td>2400</td>\n      <td>small_business</td>\n      <td>36 months</td>\n      <td>C</td>\n    </tr>\n    <tr>\n      <th>3</th>\n      <td>Fully Paid</td>\n      <td>49200.0</td>\n      <td>Source Verified</td>\n      <td>10+ years</td>\n      <td>RENT</td>\n      <td>13.49%</td>\n      <td>10000</td>\n      <td>other</td>\n      <td>36 months</td>\n      <td>C</td>\n    </tr>\n    <tr>\n      <th>4</th>\n      <td>Fully Paid</td>\n      <td>80000.0</td>\n      <td>Source Verified</td>\n      <td>1 year</td>\n      <td>RENT</td>\n      <td>12.69%</td>\n      <td>3000</td>\n      <td>other</td>\n      <td>60 months</td>\n      <td>B</td>\n    </tr>\n  </tbody>\n</table>\n</div>"
     },
     "metadata": {}
    }
   ],
   "execution_count": 3
  },
  {
   "cell_type": "markdown",
   "source": "# Solution",
   "metadata": {
    "cell_id": "5c148814-0e03-4571-82d1-22943f2368d1",
    "tags": [],
    "deepnote_cell_type": "markdown",
    "deepnote_cell_height": 134
   }
  },
  {
   "cell_type": "code",
   "source": "",
   "metadata": {
    "cell_id": "109129f1-9cc9-4edd-b69f-7522ee787da0",
    "tags": [],
    "deepnote_cell_type": "code"
   },
   "outputs": [],
   "execution_count": null
  },
  {
   "cell_type": "markdown",
   "source": "<a style='text-decoration:none;line-height:16px;display:flex;color:#5B5B62;padding:10px;justify-content:end;' href='https://deepnote.com?utm_source=created-in-deepnote-cell&projectId=96262903-a28f-4719-a328-dc59e3cfa77f' target=\"_blank\">\n<img alt='Created in deepnote.com' style='display:inline;max-height:16px;margin:0px;margin-right:7.5px;' src='data:image/svg+xml;base64,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' > </img>\nCreated in <span style='font-weight:600;margin-left:4px;'>Deepnote</span></a>",
   "metadata": {
    "tags": [],
    "created_in_deepnote_cell": true,
    "deepnote_cell_type": "markdown"
   }
  }
 ],
 "nbformat": 4,
 "nbformat_minor": 2,
 "metadata": {
  "orig_nbformat": 2,
  "deepnote": {
   "is_reactive": false
  },
  "deepnote_notebook_id": "9427cc55-8334-4193-86ea-1bdaf884b060",
  "deepnote_execution_queue": []
 }
}